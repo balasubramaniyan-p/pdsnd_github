{
  "nbformat": 4,
  "nbformat_minor": 0,
  "metadata": {
    "colab": {
      "provenance": [],
      "authorship_tag": "ABX9TyPgHicZMpH8AjOwcIJOQ86a",
      "include_colab_link": true
    },
    "kernelspec": {
      "name": "python3",
      "display_name": "Python 3"
    },
    "language_info": {
      "name": "python"
    }
  },
  "cells": [
    {
      "cell_type": "markdown",
      "metadata": {
        "id": "view-in-github",
        "colab_type": "text"
      },
      "source": [
        "<a href=\"https://colab.research.google.com/github/balasubramaniyan-p/pdsnd_github/blob/master/Index_RSI__R_MACD_Bolinger.ipynb\" target=\"_parent\"><img src=\"https://colab.research.google.com/assets/colab-badge.svg\" alt=\"Open In Colab\"/></a>"
      ]
    },
    {
      "cell_type": "code",
      "source": [
        "pip install mftool==2.8"
      ],
      "metadata": {
        "colab": {
          "base_uri": "https://localhost:8080/"
        },
        "id": "Ax0QNm9ePoic",
        "outputId": "e0dff901-6280-433c-9bba-567054eeacfe"
      },
      "execution_count": 1,
      "outputs": [
        {
          "output_type": "stream",
          "name": "stdout",
          "text": [
            "Requirement already satisfied: mftool==2.8 in /usr/local/lib/python3.10/dist-packages (2.8)\n",
            "Requirement already satisfied: requests in /usr/local/lib/python3.10/dist-packages (from mftool==2.8) (2.32.3)\n",
            "Requirement already satisfied: bs4 in /usr/local/lib/python3.10/dist-packages (from mftool==2.8) (0.0.2)\n",
            "Requirement already satisfied: httpx in /usr/local/lib/python3.10/dist-packages (from mftool==2.8) (0.27.2)\n",
            "Requirement already satisfied: pandas in /usr/local/lib/python3.10/dist-packages (from mftool==2.8) (2.1.4)\n",
            "Requirement already satisfied: yfinance in /usr/local/lib/python3.10/dist-packages (from mftool==2.8) (0.2.43)\n",
            "Requirement already satisfied: Deprecated in /usr/local/lib/python3.10/dist-packages (from mftool==2.8) (1.2.14)\n",
            "Requirement already satisfied: beautifulsoup4 in /usr/local/lib/python3.10/dist-packages (from bs4->mftool==2.8) (4.12.3)\n",
            "Requirement already satisfied: wrapt<2,>=1.10 in /usr/local/lib/python3.10/dist-packages (from Deprecated->mftool==2.8) (1.16.0)\n",
            "Requirement already satisfied: anyio in /usr/local/lib/python3.10/dist-packages (from httpx->mftool==2.8) (3.7.1)\n",
            "Requirement already satisfied: certifi in /usr/local/lib/python3.10/dist-packages (from httpx->mftool==2.8) (2024.8.30)\n",
            "Requirement already satisfied: httpcore==1.* in /usr/local/lib/python3.10/dist-packages (from httpx->mftool==2.8) (1.0.5)\n",
            "Requirement already satisfied: idna in /usr/local/lib/python3.10/dist-packages (from httpx->mftool==2.8) (3.10)\n",
            "Requirement already satisfied: sniffio in /usr/local/lib/python3.10/dist-packages (from httpx->mftool==2.8) (1.3.1)\n",
            "Requirement already satisfied: h11<0.15,>=0.13 in /usr/local/lib/python3.10/dist-packages (from httpcore==1.*->httpx->mftool==2.8) (0.14.0)\n",
            "Requirement already satisfied: numpy<2,>=1.22.4 in /usr/local/lib/python3.10/dist-packages (from pandas->mftool==2.8) (1.26.4)\n",
            "Requirement already satisfied: python-dateutil>=2.8.2 in /usr/local/lib/python3.10/dist-packages (from pandas->mftool==2.8) (2.8.2)\n",
            "Requirement already satisfied: pytz>=2020.1 in /usr/local/lib/python3.10/dist-packages (from pandas->mftool==2.8) (2024.2)\n",
            "Requirement already satisfied: tzdata>=2022.1 in /usr/local/lib/python3.10/dist-packages (from pandas->mftool==2.8) (2024.1)\n",
            "Requirement already satisfied: charset-normalizer<4,>=2 in /usr/local/lib/python3.10/dist-packages (from requests->mftool==2.8) (3.3.2)\n",
            "Requirement already satisfied: urllib3<3,>=1.21.1 in /usr/local/lib/python3.10/dist-packages (from requests->mftool==2.8) (2.2.3)\n",
            "Requirement already satisfied: multitasking>=0.0.7 in /usr/local/lib/python3.10/dist-packages (from yfinance->mftool==2.8) (0.0.11)\n",
            "Requirement already satisfied: lxml>=4.9.1 in /usr/local/lib/python3.10/dist-packages (from yfinance->mftool==2.8) (4.9.4)\n",
            "Requirement already satisfied: platformdirs>=2.0.0 in /usr/local/lib/python3.10/dist-packages (from yfinance->mftool==2.8) (4.3.6)\n",
            "Requirement already satisfied: frozendict>=2.3.4 in /usr/local/lib/python3.10/dist-packages (from yfinance->mftool==2.8) (2.4.4)\n",
            "Requirement already satisfied: peewee>=3.16.2 in /usr/local/lib/python3.10/dist-packages (from yfinance->mftool==2.8) (3.17.6)\n",
            "Requirement already satisfied: html5lib>=1.1 in /usr/local/lib/python3.10/dist-packages (from yfinance->mftool==2.8) (1.1)\n",
            "Requirement already satisfied: soupsieve>1.2 in /usr/local/lib/python3.10/dist-packages (from beautifulsoup4->bs4->mftool==2.8) (2.6)\n",
            "Requirement already satisfied: six>=1.9 in /usr/local/lib/python3.10/dist-packages (from html5lib>=1.1->yfinance->mftool==2.8) (1.16.0)\n",
            "Requirement already satisfied: webencodings in /usr/local/lib/python3.10/dist-packages (from html5lib>=1.1->yfinance->mftool==2.8) (0.5.1)\n",
            "Requirement already satisfied: exceptiongroup in /usr/local/lib/python3.10/dist-packages (from anyio->httpx->mftool==2.8) (1.2.2)\n"
          ]
        }
      ]
    },
    {
      "cell_type": "code",
      "source": [
        "\n",
        "# import module\n",
        "from mftool import Mftool\n",
        "obj = Mftool()\n",
        "scheme_code_dict=obj.get_scheme_codes()"
      ],
      "metadata": {
        "id": "r8yZPuBWPkzB"
      },
      "execution_count": 2,
      "outputs": []
    },
    {
      "cell_type": "code",
      "source": [
        "def calculate_rsi(data, window,close=\"Close\",date=\"Date\",format=\"%d-%m-%Y\"):\n",
        "    # Convert 'Date' column to datetime\n",
        "    data['Date'] = pd.to_datetime(data[date],format=format)\n",
        "    data=data.sort_values(by='Date')\n",
        "    data[close] = data[close].astype(float)\n",
        "    data = data.reset_index(drop=True)\n",
        "    delta = data[close].diff()\n",
        "    gain = (delta.where(delta > 0, 0)).rolling(window=window).mean()\n",
        "    loss = (-delta.where(delta < 0, 0)).rolling(window=window).mean()\n",
        "    rs = gain / loss\n",
        "    rsi = 100 - (100 / (1 + rs))\n",
        "    return rsi"
      ],
      "metadata": {
        "id": "OdQOK7uuTJ8G"
      },
      "execution_count": 3,
      "outputs": []
    },
    {
      "cell_type": "code",
      "source": [
        "# Download historical data for NESI\n",
        "import pandas as pd\n",
        "tickers = [\"120620\"]\n",
        "\n",
        "for ticker in tickers:\n",
        "  try:\n",
        "        data_pre = obj.get_scheme_historical_nav(code=ticker)\n",
        "        data=pd.DataFrame(data_pre['data'])\n",
        "        data['RSI'] = calculate_rsi(data, 14,date=\"date\",close=\"nav\",format=\"%d-%m-%Y\")\n",
        "        # Get the latest RSI value\n",
        "        latest_rsi = data['RSI'].iloc[-1]\n",
        "        print(f\"\\nThe latest RSI(14) value for {data_pre['scheme_name']} is {latest_rsi}.\")\n",
        "  except Exception as e:\n",
        "    print(f\"Error occurred while fetching data for {ticker}: {e}\")"
      ],
      "metadata": {
        "colab": {
          "base_uri": "https://localhost:8080/"
        },
        "id": "F0xLzRn2MEpF",
        "outputId": "d5c23e03-f571-4a5c-c0b8-3f61d953407c"
      },
      "execution_count": 5,
      "outputs": [
        {
          "output_type": "stream",
          "name": "stdout",
          "text": [
            "\n",
            "The latest RSI(14) value for ICICI Prudential Nifty 50 Index Fund - Direct Plan Cumulative Option is 73.33445235335154.\n"
          ]
        }
      ]
    }
  ]
}